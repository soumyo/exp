{
 "cells": [
  {
   "cell_type": "code",
   "execution_count": 1,
   "id": "2bbfd9c8-3f7c-4b25-9e86-e0f7c55669f7",
   "metadata": {},
   "outputs": [],
   "source": [
    "import numpy as np\n",
    "import torch"
   ]
  },
  {
   "cell_type": "code",
   "execution_count": 4,
   "id": "da52655b-16ac-4a8e-9c8e-b4b96b44f316",
   "metadata": {},
   "outputs": [],
   "source": [
    "#Training Data representad as two matrices input and target. \n",
    "#1.Input params(temp,rainfall,humidity)\n",
    "inputs = np.array([[73,67,43],\n",
    "                  [91,88,64],\n",
    "                  [87,134,58],\n",
    "                  [102,43,37],\n",
    "                  [69,96,70]],dtype='float32')"
   ]
  },
  {
   "cell_type": "code",
   "execution_count": 20,
   "id": "32696340-5726-4663-bec1-1b9f420abd4a",
   "metadata": {},
   "outputs": [],
   "source": [
    "#Target Yield of apples and oranges for each input. (apples,oranges)\n",
    "targets = np.array([[56,70],\n",
    "                    [81,101],\n",
    "                    [119,133],\n",
    "                    [22,37],\n",
    "                    [103,119]],dtype='float32')"
   ]
  },
  {
   "cell_type": "code",
   "execution_count": 25,
   "id": "11b3be63-d219-4de0-9271-2cbee14b445c",
   "metadata": {},
   "outputs": [],
   "source": [
    "# Convert input and targets into tensors\n",
    "inputs = torch.from_numpy(inputs)"
   ]
  },
  {
   "cell_type": "code",
   "execution_count": 26,
   "id": "a5dc5909-5c39-48cb-a0a1-be7e3bb37f78",
   "metadata": {},
   "outputs": [],
   "source": [
    "targets = torch.from_numpy(targets)"
   ]
  },
  {
   "cell_type": "code",
   "execution_count": 27,
   "id": "c7063f88-277e-4695-9dbf-851d496f5152",
   "metadata": {},
   "outputs": [
    {
     "name": "stdout",
     "output_type": "stream",
     "text": [
      "tensor([[ 73.,  67.,  43.],\n",
      "        [ 91.,  88.,  64.],\n",
      "        [ 87., 134.,  58.],\n",
      "        [102.,  43.,  37.],\n",
      "        [ 69.,  96.,  70.]])\n"
     ]
    }
   ],
   "source": [
    "print(inputs)"
   ]
  },
  {
   "cell_type": "code",
   "execution_count": 29,
   "id": "3a7683f4-ee5d-48a1-b68d-4afcbf11570c",
   "metadata": {},
   "outputs": [
    {
     "name": "stdout",
     "output_type": "stream",
     "text": [
      "tensor([[ 56.,  70.],\n",
      "        [ 81., 101.],\n",
      "        [119., 133.],\n",
      "        [ 22.,  37.],\n",
      "        [103., 119.]])\n"
     ]
    }
   ],
   "source": [
    "print(targets)"
   ]
  },
  {
   "cell_type": "code",
   "execution_count": 31,
   "id": "b45846d5-079f-4be7-b6fd-47df3eb71620",
   "metadata": {},
   "outputs": [
    {
     "name": "stdout",
     "output_type": "stream",
     "text": [
      "tensor([[-0.2266,  0.3505,  1.2582],\n",
      "        [ 0.2593,  0.7462, -0.1283]], requires_grad=True)\n",
      "tensor([ 1.0846, -1.0095], requires_grad=True)\n"
     ]
    }
   ],
   "source": [
    "#Hand code model from Scratch\n",
    "#Start with Random weights and biases\n",
    "# Weight matrix : 2x3 because we have 2 targets and 3 input params\n",
    "\n",
    "w = torch.randn(2,3,requires_grad=True)\n",
    "b = torch.randn(2,requires_grad=True)\n",
    "print(w)\n",
    "print(b)\n"
   ]
  },
  {
   "cell_type": "code",
   "execution_count": 33,
   "id": "92d54277-1663-447b-92a0-b8d50a0db354",
   "metadata": {},
   "outputs": [],
   "source": [
    "# Model is a simple function that multiplies the inputs matrix with weight matrx (transposed) and adds the biad vector\n",
    "# x input \"@\" : matrix mult and w.t(transpose w). Output is a set of predictions\n",
    "\n",
    "def model(x):\n",
    "    return x @ w.t() + b"
   ]
  },
  {
   "cell_type": "code",
   "execution_count": 48,
   "id": "74c29f2b-88bf-4d5f-bac9-cce8a58de594",
   "metadata": {},
   "outputs": [
    {
     "name": "stdout",
     "output_type": "stream",
     "text": [
      "tensor([[ 62.1246,  62.3989],\n",
      "        [ 91.8269,  80.0422],\n",
      "        [101.3052, 114.1015],\n",
      "        [ 39.5935,  52.7792],\n",
      "        [107.1645,  79.5374]], grad_fn=<AddBackward0>)\n"
     ]
    }
   ],
   "source": [
    "# Generate Predictions\n",
    "preds = model(inputs)\n",
    "print (preds)"
   ]
  },
  {
   "cell_type": "code",
   "execution_count": 49,
   "id": "4aae8503-2e19-4b7d-93d1-d74763f62ec2",
   "metadata": {},
   "outputs": [
    {
     "name": "stdout",
     "output_type": "stream",
     "text": [
      "tensor([[ 56.,  70.],\n",
      "        [ 81., 101.],\n",
      "        [119., 133.],\n",
      "        [ 22.,  37.],\n",
      "        [103., 119.]])\n"
     ]
    }
   ],
   "source": [
    "print(targets)"
   ]
  },
  {
   "cell_type": "code",
   "execution_count": 36,
   "id": "09d4cfc4-5b32-4b8b-a29f-2ddd784bf0a6",
   "metadata": {},
   "outputs": [],
   "source": [
    "# got luck the first time itself. the diff is not large\n"
   ]
  },
  {
   "cell_type": "code",
   "execution_count": 50,
   "id": "a226b745-4a44-437a-99b0-cb80221e94dd",
   "metadata": {},
   "outputs": [],
   "source": [
    "# Loss Function. Essentially the avg of differnces between the predictions and the actuals. The diff is squared to handle any -ves\n",
    "\n",
    "# MSE Loss\n",
    "\n",
    "def mse(t1,t2):\n",
    "    diff = t1 - t2\n",
    "    return torch.sum(diff*diff) / diff.numel()"
   ]
  },
  {
   "cell_type": "code",
   "execution_count": 51,
   "id": "681f5479-b810-45ab-b3f5-6317828e8323",
   "metadata": {},
   "outputs": [
    {
     "name": "stdout",
     "output_type": "stream",
     "text": [
      "tensor(345.5154, grad_fn=<DivBackward0>)\n"
     ]
    }
   ],
   "source": [
    "loss = mse(preds,targets)\n",
    "print(loss)"
   ]
  },
  {
   "cell_type": "code",
   "execution_count": 40,
   "id": "da5ed313-0d55-4b2d-b0a5-371a56702573",
   "metadata": {},
   "outputs": [
    {
     "name": "stderr",
     "output_type": "stream",
     "text": [
      "/home/soumyo/.local/lib/python3.10/site-packages/torch/autograd/graph.py:744: UserWarning: CUDA initialization: CUDA unknown error - this may be due to an incorrectly set up environment, e.g. changing env variable CUDA_VISIBLE_DEVICES after program start. Setting the available devices to be zero. (Triggered internally at ../c10/cuda/CUDAFunctions.cpp:108.)\n",
      "  return Variable._execution_engine.run_backward(  # Calls into the C++ engine to run the backward pass\n"
     ]
    }
   ],
   "source": [
    "# Compute Gradient\n",
    "loss.backward()\n"
   ]
  },
  {
   "cell_type": "code",
   "execution_count": 41,
   "id": "039556f1-401b-4a60-ae2b-4fd7c43587a1",
   "metadata": {},
   "outputs": [
    {
     "ename": "ModuleNotFoundError",
     "evalue": "No module named 'cuda'",
     "output_type": "error",
     "traceback": [
      "\u001b[0;31m---------------------------------------------------------------------------\u001b[0m",
      "\u001b[0;31mModuleNotFoundError\u001b[0m                       Traceback (most recent call last)",
      "Cell \u001b[0;32mIn[41], line 1\u001b[0m\n\u001b[0;32m----> 1\u001b[0m \u001b[38;5;28;01mimport\u001b[39;00m \u001b[38;5;21;01mcuda\u001b[39;00m\n",
      "\u001b[0;31mModuleNotFoundError\u001b[0m: No module named 'cuda'"
     ]
    }
   ],
   "source": [
    "import cuda"
   ]
  },
  {
   "cell_type": "code",
   "execution_count": 52,
   "id": "73c6856a-1988-46af-b581-6a01ec50fe75",
   "metadata": {},
   "outputs": [
    {
     "name": "stdout",
     "output_type": "stream",
     "text": [
      "tensor([[  394.9568,    29.6660,   174.4915],\n",
      "        [-1043.9333, -1599.1771,  -988.5647]])\n"
     ]
    }
   ],
   "source": [
    "print(w.grad)"
   ]
  },
  {
   "cell_type": "code",
   "execution_count": 58,
   "id": "51a91fb1-e585-4aa5-bb2b-50dd34de58b2",
   "metadata": {},
   "outputs": [],
   "source": [
    "with torch.no_grad():\n",
    "    w -= w.grad * 1e-20\n",
    "    b -= b.grad * 1e-20\n",
    "    "
   ]
  },
  {
   "cell_type": "code",
   "execution_count": 59,
   "id": "d1278b7d-282e-45a5-92b9-a309f844bc33",
   "metadata": {},
   "outputs": [],
   "source": [
    "loss = mse(preds,targets)"
   ]
  },
  {
   "cell_type": "code",
   "execution_count": 60,
   "id": "ea27437b-761c-4bae-99f4-1a989bfea72a",
   "metadata": {},
   "outputs": [
    {
     "name": "stdout",
     "output_type": "stream",
     "text": [
      "tensor(345.5154, grad_fn=<DivBackward0>)\n"
     ]
    }
   ],
   "source": [
    "print(loss)"
   ]
  },
  {
   "cell_type": "code",
   "execution_count": 61,
   "id": "c9c37930-bdf8-4643-8bfb-b81317b132d2",
   "metadata": {},
   "outputs": [
    {
     "name": "stdout",
     "output_type": "stream",
     "text": [
      "tensor([[0., 0., 0.],\n",
      "        [0., 0., 0.]])\n",
      "tensor([0., 0.])\n"
     ]
    }
   ],
   "source": [
    "w.grad.zero_()\n",
    "b.grad.zero_()\n",
    "print(w.grad)\n",
    "print(b.grad)"
   ]
  },
  {
   "cell_type": "code",
   "execution_count": 62,
   "id": "5ad02ca6-a787-4246-acb3-2af4197d3f32",
   "metadata": {},
   "outputs": [],
   "source": [
    "# Train in batches. Epochs (iterations)\n",
    "for i in range(100):\n",
    "    preds = model(inputs)\n",
    "    loss = mse(preds,targets)\n",
    "    loss.backward()\n",
    "    with torch.no_grad():\n",
    "         w-= w.grad * 1e-5\n",
    "         b-= b.grad * 1e-5\n",
    "         w.grad.zero_()\n",
    "         b.grad.zero_()\n",
    "        "
   ]
  },
  {
   "cell_type": "code",
   "execution_count": 63,
   "id": "98d3bda5-7e48-4d96-9e55-479597659449",
   "metadata": {},
   "outputs": [
    {
     "name": "stdout",
     "output_type": "stream",
     "text": [
      "tensor(100.2045, grad_fn=<DivBackward0>)\n"
     ]
    }
   ],
   "source": [
    "preds = model(inputs)\n",
    "loss = mse(preds,targets)\n",
    "print(loss)"
   ]
  },
  {
   "cell_type": "code",
   "execution_count": 64,
   "id": "43d7e924-405e-4423-aa4e-cbabcfec9c93",
   "metadata": {},
   "outputs": [
    {
     "data": {
      "text/plain": [
       "tensor([[ 58.5879,  73.1120],\n",
       "        [ 87.5516,  95.9349],\n",
       "        [104.2536, 139.2187],\n",
       "        [ 28.7398,  53.6200],\n",
       "        [106.9629, 101.0110]], grad_fn=<AddBackward0>)"
      ]
     },
     "execution_count": 64,
     "metadata": {},
     "output_type": "execute_result"
    }
   ],
   "source": [
    "preds\n"
   ]
  },
  {
   "cell_type": "code",
   "execution_count": 65,
   "id": "3f8f5f81-d19b-43b0-a84a-372a7a353344",
   "metadata": {},
   "outputs": [
    {
     "data": {
      "text/plain": [
       "tensor([[ 56.,  70.],\n",
       "        [ 81., 101.],\n",
       "        [119., 133.],\n",
       "        [ 22.,  37.],\n",
       "        [103., 119.]])"
      ]
     },
     "execution_count": 65,
     "metadata": {},
     "output_type": "execute_result"
    }
   ],
   "source": [
    "targets"
   ]
  },
  {
   "cell_type": "code",
   "execution_count": 66,
   "id": "13ed5e67-0a9c-41b5-8924-0b11159f2d6b",
   "metadata": {},
   "outputs": [],
   "source": [
    "# Linear Regression using PyTorch Built-ins"
   ]
  },
  {
   "cell_type": "code",
   "execution_count": 67,
   "id": "1625a26d-8cfa-439d-9e5c-6296d8bd0e1d",
   "metadata": {},
   "outputs": [],
   "source": [
    "import torch.nn as nn\n"
   ]
  },
  {
   "cell_type": "code",
   "execution_count": 68,
   "id": "28bcb2c8-9d18-4a5d-806f-2788fd94c1df",
   "metadata": {},
   "outputs": [],
   "source": [
    "# Input (temp, rainfall, humidity)\n",
    "inputs = np.array([[73, 67, 43], \n",
    "                   [91, 88, 64], \n",
    "                   [87, 134, 58], \n",
    "                   [102, 43, 37], \n",
    "                   [69, 96, 70], \n",
    "                   [74, 66, 43], \n",
    "                   [91, 87, 65], \n",
    "                   [88, 134, 59], \n",
    "                   [101, 44, 37], \n",
    "                   [68, 96, 71], \n",
    "                   [73, 66, 44], \n",
    "                   [92, 87, 64], \n",
    "                   [87, 135, 57], \n",
    "                   [103, 43, 36], \n",
    "                   [68, 97, 70]], \n",
    "                  dtype='float32')\n",
    "\n",
    "# Targets (apples, oranges)\n",
    "targets = np.array([[56, 70], \n",
    "                    [81, 101], \n",
    "                    [119, 133], \n",
    "                    [22, 37], \n",
    "                    [103, 119],\n",
    "                    [57, 69], \n",
    "                    [80, 102], \n",
    "                    [118, 132], \n",
    "                    [21, 38], \n",
    "                    [104, 118], \n",
    "                    [57, 69], \n",
    "                    [82, 100], \n",
    "                    [118, 134], \n",
    "                    [20, 38], \n",
    "                    [102, 120]], \n",
    "                   dtype='float32')\n",
    "\n",
    "inputs = torch.from_numpy(inputs)\n",
    "targets = torch.from_numpy(targets)"
   ]
  },
  {
   "cell_type": "code",
   "execution_count": 70,
   "id": "b762a21e-921a-4ef1-8efb-1296d36819ef",
   "metadata": {},
   "outputs": [],
   "source": [
    "# Tensordata set allows access to data from inputs and targets as tuples and standad APIs for different types of datasets\n",
    "from torch.utils.data import TensorDataset\n"
   ]
  },
  {
   "cell_type": "code",
   "execution_count": 71,
   "id": "f1e3a379-0dbb-4b97-8272-9f6d3ffbf31f",
   "metadata": {},
   "outputs": [
    {
     "data": {
      "text/plain": [
       "(tensor([[ 73.,  67.,  43.],\n",
       "         [ 91.,  88.,  64.],\n",
       "         [ 87., 134.,  58.]]),\n",
       " tensor([[ 56.,  70.],\n",
       "         [ 81., 101.],\n",
       "         [119., 133.]]))"
      ]
     },
     "execution_count": 71,
     "metadata": {},
     "output_type": "execute_result"
    }
   ],
   "source": [
    "#Define Dataset\n",
    "train_ds = TensorDataset(inputs,targets)\n",
    "train_ds[0:3]"
   ]
  },
  {
   "cell_type": "code",
   "execution_count": 73,
   "id": "b7aaec77-caeb-4614-840a-197f4faceff4",
   "metadata": {},
   "outputs": [],
   "source": [
    "#Dataloader helps split training data into batches. Also utlities like shuffling and random sampling\n",
    "\n",
    "from torch.utils.data import DataLoader"
   ]
  },
  {
   "cell_type": "code",
   "execution_count": 76,
   "id": "00c18a49-1868-4575-bc1e-17a3b9d946c0",
   "metadata": {},
   "outputs": [],
   "source": [
    "# Define Dataloader Spec\n",
    "\n",
    "batch_size = 5\n",
    "train_dl = DataLoader(train_ds,batch_size,shuffle=True)"
   ]
  },
  {
   "cell_type": "code",
   "execution_count": 77,
   "id": "b188050c-e6af-42be-bb4e-21c061aa2ca7",
   "metadata": {},
   "outputs": [],
   "source": [
    "# Use nn.Linear to automatically initialize weights and biases\n"
   ]
  },
  {
   "cell_type": "code",
   "execution_count": 79,
   "id": "dd979272-2778-4bc0-bd6f-08bbd0a347df",
   "metadata": {},
   "outputs": [
    {
     "name": "stdout",
     "output_type": "stream",
     "text": [
      "Parameter containing:\n",
      "tensor([[0.5556, 0.3856, 0.5280],\n",
      "        [0.0557, 0.1256, 0.4407]], requires_grad=True)\n",
      "Parameter containing:\n",
      "tensor([-0.0405, -0.0770], requires_grad=True)\n"
     ]
    }
   ],
   "source": [
    "#Define Model\n",
    "model = nn.Linear(3,2)\n",
    "print(model.weight)\n",
    "print(model.bias)"
   ]
  },
  {
   "cell_type": "code",
   "execution_count": 80,
   "id": "a7b3dfba-fcbf-4908-ae7d-6fb53b087171",
   "metadata": {},
   "outputs": [
    {
     "data": {
      "text/plain": [
       "[Parameter containing:\n",
       " tensor([[0.5556, 0.3856, 0.5280],\n",
       "         [0.0557, 0.1256, 0.4407]], requires_grad=True),\n",
       " Parameter containing:\n",
       " tensor([-0.0405, -0.0770], requires_grad=True)]"
      ]
     },
     "execution_count": 80,
     "metadata": {},
     "output_type": "execute_result"
    }
   ],
   "source": [
    "list(model.parameters())"
   ]
  },
  {
   "cell_type": "code",
   "execution_count": 81,
   "id": "28300aee-5fe8-40f3-af05-e7a810915c97",
   "metadata": {},
   "outputs": [
    {
     "data": {
      "text/plain": [
       "tensor([[ 89.0513,  31.3555],\n",
       "        [118.2358,  44.2507],\n",
       "        [130.5812,  47.1591],\n",
       "        [ 92.7414,  27.3145],\n",
       "        [112.2658,  46.6730],\n",
       "        [ 89.2213,  31.2857],\n",
       "        [118.3783,  44.5658],\n",
       "        [131.6647,  47.6556],\n",
       "        [ 92.5714,  27.3843],\n",
       "        [112.2382,  47.0580],\n",
       "        [ 89.1937,  31.6707],\n",
       "        [118.4059,  44.1809],\n",
       "        [130.4388,  46.8439],\n",
       "        [ 92.7690,  26.9295],\n",
       "        [112.0958,  46.7428]], grad_fn=<AddmmBackward0>)"
      ]
     },
     "execution_count": 81,
     "metadata": {},
     "output_type": "execute_result"
    }
   ],
   "source": [
    "preds = model(inputs)\n",
    "preds"
   ]
  },
  {
   "cell_type": "code",
   "execution_count": 83,
   "id": "82017138-5838-421e-95d5-1ff92ae8bd6d",
   "metadata": {},
   "outputs": [],
   "source": [
    "# PyTorch Loss Function\n",
    "import torch.nn.functional as F"
   ]
  },
  {
   "cell_type": "code",
   "execution_count": 84,
   "id": "0a324cb9-4ce0-4c1b-9f64-7229f969fd0c",
   "metadata": {},
   "outputs": [],
   "source": [
    "# Other loss functions areavaialble in nn.funnctional\n",
    "loss_fn = F.mse_loss\n"
   ]
  },
  {
   "cell_type": "code",
   "execution_count": 85,
   "id": "80e97ca1-5559-4b48-aa2e-feea4d79eb2d",
   "metadata": {},
   "outputs": [
    {
     "name": "stdout",
     "output_type": "stream",
     "text": [
      "tensor(2516.2607, grad_fn=<MseLossBackward0>)\n"
     ]
    }
   ],
   "source": [
    "loss = loss_fn(preds,targets)\n",
    "print(loss)"
   ]
  },
  {
   "cell_type": "code",
   "execution_count": 86,
   "id": "a4255239-5390-4d12-989a-6903db3beadc",
   "metadata": {},
   "outputs": [],
   "source": [
    "# Instead of manually manipulating weights and biases use PyTorch Optimizer\n",
    "\n",
    "#Define optimizer. Provide learning rate\n",
    "\n",
    "opt = torch.optim.SGD(model.parameters(),lr=1e-5)"
   ]
  },
  {
   "cell_type": "code",
   "execution_count": 88,
   "id": "510bcbc5-f468-43db-b6a3-9ffceb4b086b",
   "metadata": {},
   "outputs": [],
   "source": [
    "#Model Training. Utlitity function to train the model in batches for epochs\n",
    "\n",
    "def fit(num_epochs,model,loss_fn,opt,train_dl):\n",
    "\n",
    "    #Repeat for given nos of epochs\n",
    "    for epoch in range(num_epochs):\n",
    "        #Train with batches of data\n",
    "        for xb,yb in train_dl:\n",
    "            # 1. generate predictions\n",
    "            preds = model(xb)\n",
    "            # 2.Calculate loss\n",
    "            loss = loss_fn(preds,yb)\n",
    "            # 3.Compute gradients\n",
    "            loss.backward()\n",
    "            # 4.Adjust parametes using gradients\n",
    "            opt.step()\n",
    "            # 5. Reset gradients to zero\n",
    "            opt.zero_grad()\n",
    "\n",
    "        # print Progress\n",
    "        if(epoch+1) % 10 == 0:\n",
    "            print('Epoch [{}/{}], Loss: {:.4f}'.format(epoch+1, num_epochs, loss.item()))"
   ]
  },
  {
   "cell_type": "code",
   "execution_count": 89,
   "id": "498ac358-07df-4374-acfd-64e2c35896ca",
   "metadata": {},
   "outputs": [
    {
     "name": "stdout",
     "output_type": "stream",
     "text": [
      "Epoch [10/100], Loss: 352.8480\n",
      "Epoch [20/100], Loss: 247.1626\n",
      "Epoch [30/100], Loss: 96.7314\n",
      "Epoch [40/100], Loss: 113.6144\n",
      "Epoch [50/100], Loss: 81.5188\n",
      "Epoch [60/100], Loss: 50.5130\n",
      "Epoch [70/100], Loss: 55.2823\n",
      "Epoch [80/100], Loss: 9.3876\n",
      "Epoch [90/100], Loss: 14.8025\n",
      "Epoch [100/100], Loss: 17.3583\n"
     ]
    }
   ],
   "source": [
    "fit(100,model,loss_fn,opt,train_dl)"
   ]
  },
  {
   "cell_type": "code",
   "execution_count": 90,
   "id": "77440940-95df-402d-a60c-064abec01a87",
   "metadata": {},
   "outputs": [],
   "source": [
    "preds = model(inputs)"
   ]
  },
  {
   "cell_type": "code",
   "execution_count": 91,
   "id": "8eb6df2f-7c1d-4e46-82ed-94587751f310",
   "metadata": {},
   "outputs": [
    {
     "data": {
      "text/plain": [
       "tensor([[ 58.2557,  71.3491],\n",
       "        [ 81.9862,  99.9846],\n",
       "        [116.3916, 132.6086],\n",
       "        [ 28.2027,  43.1833],\n",
       "        [ 97.4476, 114.3477],\n",
       "        [ 57.1969,  70.3910],\n",
       "        [ 81.7445,  99.9167],\n",
       "        [116.6866, 133.1595],\n",
       "        [ 29.2615,  44.1414],\n",
       "        [ 98.2647, 115.2379],\n",
       "        [ 58.0140,  71.2812],\n",
       "        [ 80.9274,  99.0266],\n",
       "        [116.6334, 132.6765],\n",
       "        [ 27.3856,  42.2932],\n",
       "        [ 98.5065, 115.3057]], grad_fn=<AddmmBackward0>)"
      ]
     },
     "execution_count": 91,
     "metadata": {},
     "output_type": "execute_result"
    }
   ],
   "source": [
    "preds\n"
   ]
  },
  {
   "cell_type": "code",
   "execution_count": 92,
   "id": "ca03364d-4d5b-4218-a69e-dc397af64617",
   "metadata": {},
   "outputs": [
    {
     "data": {
      "text/plain": [
       "tensor([[ 56.,  70.],\n",
       "        [ 81., 101.],\n",
       "        [119., 133.],\n",
       "        [ 22.,  37.],\n",
       "        [103., 119.],\n",
       "        [ 57.,  69.],\n",
       "        [ 80., 102.],\n",
       "        [118., 132.],\n",
       "        [ 21.,  38.],\n",
       "        [104., 118.],\n",
       "        [ 57.,  69.],\n",
       "        [ 82., 100.],\n",
       "        [118., 134.],\n",
       "        [ 20.,  38.],\n",
       "        [102., 120.]])"
      ]
     },
     "execution_count": 92,
     "metadata": {},
     "output_type": "execute_result"
    }
   ],
   "source": [
    "targets\n"
   ]
  },
  {
   "cell_type": "code",
   "execution_count": 93,
   "id": "77da231a-19fb-48f8-9091-18a76032af04",
   "metadata": {},
   "outputs": [
    {
     "data": {
      "text/plain": [
       "tensor([[55.0985, 68.5765]], grad_fn=<AddmmBackward0>)"
      ]
     },
     "execution_count": 93,
     "metadata": {},
     "output_type": "execute_result"
    }
   ],
   "source": [
    "model(torch.tensor([[75, 63, 44.]]))"
   ]
  },
  {
   "cell_type": "code",
   "execution_count": 94,
   "id": "5839f368-c3cc-4f5e-b13d-5d66fafbea03",
   "metadata": {},
   "outputs": [],
   "source": [
    "# The model is trained with minimal loss and can be used to predictons\n",
    "\n"
   ]
  },
  {
   "cell_type": "code",
   "execution_count": null,
   "id": "37cb25ea-1767-4589-8efc-954870697825",
   "metadata": {},
   "outputs": [],
   "source": []
  }
 ],
 "metadata": {
  "kernelspec": {
   "display_name": "Python 3 (ipykernel)",
   "language": "python",
   "name": "python3"
  },
  "language_info": {
   "codemirror_mode": {
    "name": "ipython",
    "version": 3
   },
   "file_extension": ".py",
   "mimetype": "text/x-python",
   "name": "python",
   "nbconvert_exporter": "python",
   "pygments_lexer": "ipython3",
   "version": "3.10.12"
  }
 },
 "nbformat": 4,
 "nbformat_minor": 5
}
