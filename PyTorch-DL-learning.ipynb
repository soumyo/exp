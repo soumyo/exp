{
 "cells": [
  {
   "cell_type": "code",
   "execution_count": 2,
   "id": "76596669-db3e-492a-9e24-8de350490dc7",
   "metadata": {},
   "outputs": [],
   "source": [
    "import torch"
   ]
  },
  {
   "cell_type": "code",
   "execution_count": 3,
   "id": "ab84604c-57a0-4413-8e38-602fd09c4e59",
   "metadata": {},
   "outputs": [],
   "source": [
    "t1 = torch.tensor(4.)"
   ]
  },
  {
   "cell_type": "code",
   "execution_count": 4,
   "id": "ffafbf33-9007-4326-963a-828563a49b8b",
   "metadata": {},
   "outputs": [
    {
     "data": {
      "text/plain": [
       "tensor(4.)"
      ]
     },
     "execution_count": 4,
     "metadata": {},
     "output_type": "execute_result"
    }
   ],
   "source": [
    "t1"
   ]
  },
  {
   "cell_type": "code",
   "execution_count": 5,
   "id": "94d95816-b4c2-41e7-9a0b-778cc08ace1e",
   "metadata": {},
   "outputs": [
    {
     "data": {
      "text/plain": [
       "torch.float32"
      ]
     },
     "execution_count": 5,
     "metadata": {},
     "output_type": "execute_result"
    }
   ],
   "source": [
    "t1.dtype"
   ]
  },
  {
   "cell_type": "code",
   "execution_count": 6,
   "id": "7ed5d86d-e89c-4501-b497-6be095548c58",
   "metadata": {},
   "outputs": [],
   "source": [
    "t2 = torch.tensor([1.,2.,3.,4.])"
   ]
  },
  {
   "cell_type": "code",
   "execution_count": 7,
   "id": "cf3a7684-0898-4523-b6b7-ad0544d2e463",
   "metadata": {},
   "outputs": [
    {
     "data": {
      "text/plain": [
       "tensor([1., 2., 3., 4.])"
      ]
     },
     "execution_count": 7,
     "metadata": {},
     "output_type": "execute_result"
    }
   ],
   "source": [
    "t2"
   ]
  },
  {
   "cell_type": "code",
   "execution_count": 10,
   "id": "2bb3c69a-e7f5-4a3a-bf4b-4bd92e844757",
   "metadata": {},
   "outputs": [],
   "source": [
    "t4 = torch.tensor([[[11,12,13],[13,14,15]],[[15,16,17],[17,18,19]]])"
   ]
  },
  {
   "cell_type": "markdown",
   "id": "1d301222-f098-435e-8dd3-405ce8523abb",
   "metadata": {},
   "source": [
    "#### "
   ]
  },
  {
   "cell_type": "code",
   "execution_count": 11,
   "id": "bd385cca-0a46-4e9a-8983-9a91f4b031e9",
   "metadata": {},
   "outputs": [
    {
     "data": {
      "text/plain": [
       "tensor([[[11, 12, 13],\n",
       "         [13, 14, 15]],\n",
       "\n",
       "        [[15, 16, 17],\n",
       "         [17, 18, 19]]])"
      ]
     },
     "execution_count": 11,
     "metadata": {},
     "output_type": "execute_result"
    }
   ],
   "source": [
    "t4"
   ]
  },
  {
   "cell_type": "code",
   "execution_count": 12,
   "id": "cd9226f3-76c6-4798-bc26-7b8d9791edf5",
   "metadata": {},
   "outputs": [
    {
     "ename": "TypeError",
     "evalue": "'torch.Size' object is not callable",
     "output_type": "error",
     "traceback": [
      "\u001b[0;31m---------------------------------------------------------------------------\u001b[0m",
      "\u001b[0;31mTypeError\u001b[0m                                 Traceback (most recent call last)",
      "Cell \u001b[0;32mIn[12], line 1\u001b[0m\n\u001b[0;32m----> 1\u001b[0m \u001b[43mt2\u001b[49m\u001b[38;5;241;43m.\u001b[39;49m\u001b[43mshape\u001b[49m\u001b[43m(\u001b[49m\u001b[43m)\u001b[49m\n",
      "\u001b[0;31mTypeError\u001b[0m: 'torch.Size' object is not callable"
     ]
    }
   ],
   "source": [
    "t2.shape()\n"
   ]
  },
  {
   "cell_type": "code",
   "execution_count": 13,
   "id": "71519298-e887-4aae-b383-3d273613eed1",
   "metadata": {},
   "outputs": [
    {
     "data": {
      "text/plain": [
       "tensor([1., 2., 3., 4.])"
      ]
     },
     "execution_count": 13,
     "metadata": {},
     "output_type": "execute_result"
    }
   ],
   "source": [
    "t2"
   ]
  },
  {
   "cell_type": "code",
   "execution_count": 14,
   "id": "ef83ffee-6c8d-4690-b742-00575d6f1ed6",
   "metadata": {},
   "outputs": [
    {
     "data": {
      "text/plain": [
       "torch.Size([4])"
      ]
     },
     "execution_count": 14,
     "metadata": {},
     "output_type": "execute_result"
    }
   ],
   "source": [
    "t2.size()"
   ]
  },
  {
   "cell_type": "code",
   "execution_count": 15,
   "id": "1963b1c9-3fd6-4310-bacb-f30927475b81",
   "metadata": {},
   "outputs": [
    {
     "data": {
      "text/plain": [
       "torch.Size([2, 2, 3])"
      ]
     },
     "execution_count": 15,
     "metadata": {},
     "output_type": "execute_result"
    }
   ],
   "source": [
    "t4.shape"
   ]
  },
  {
   "cell_type": "code",
   "execution_count": 16,
   "id": "26e76ec0-8c6d-4912-b537-63adc3ff6d30",
   "metadata": {},
   "outputs": [
    {
     "data": {
      "text/plain": [
       "torch.Size([4])"
      ]
     },
     "execution_count": 16,
     "metadata": {},
     "output_type": "execute_result"
    }
   ],
   "source": [
    "t2.shape"
   ]
  },
  {
   "cell_type": "code",
   "execution_count": 20,
   "id": "4d796df9-7079-4403-ae1c-05f48874a87e",
   "metadata": {},
   "outputs": [],
   "source": [
    "x = torch.tensor(3.0)"
   ]
  },
  {
   "cell_type": "code",
   "execution_count": 21,
   "id": "85dfdcc2-897c-4f3d-bb71-2dc8f7603c1f",
   "metadata": {},
   "outputs": [],
   "source": [
    "w = torch.tensor(4.0\n",
    "                 ,requires_grad=True)"
   ]
  },
  {
   "cell_type": "code",
   "execution_count": 22,
   "id": "1a1c59d7-976b-4f19-980a-30a219e6534b",
   "metadata": {},
   "outputs": [],
   "source": [
    "b = torch.tensor(5.0, requires_grad =True)"
   ]
  },
  {
   "cell_type": "code",
   "execution_count": 23,
   "id": "62115342-9d62-4142-87ec-080046793924",
   "metadata": {},
   "outputs": [],
   "source": [
    "y = w*x + b"
   ]
  },
  {
   "cell_type": "code",
   "execution_count": 24,
   "id": "9b97fe24-d8de-4ebb-af87-a5a012fa2bb7",
   "metadata": {},
   "outputs": [
    {
     "data": {
      "text/plain": [
       "tensor(17., grad_fn=<AddBackward0>)"
      ]
     },
     "execution_count": 24,
     "metadata": {},
     "output_type": "execute_result"
    }
   ],
   "source": [
    "y"
   ]
  },
  {
   "cell_type": "code",
   "execution_count": 25,
   "id": "b8317064-9c87-4306-9e1f-dcb0f8552aa0",
   "metadata": {},
   "outputs": [],
   "source": [
    "y.backward()"
   ]
  },
  {
   "cell_type": "code",
   "execution_count": 26,
   "id": "debcd5ca-0bf2-4505-a2e7-26e23d242f7b",
   "metadata": {},
   "outputs": [
    {
     "data": {
      "text/plain": [
       "tensor(17., grad_fn=<AddBackward0>)"
      ]
     },
     "execution_count": 26,
     "metadata": {},
     "output_type": "execute_result"
    }
   ],
   "source": [
    "y"
   ]
  },
  {
   "cell_type": "code",
   "execution_count": 27,
   "id": "9f99a80e-ec2a-4b3b-b96d-b8ddb6e34c57",
   "metadata": {},
   "outputs": [],
   "source": [
    "x.grad"
   ]
  },
  {
   "cell_type": "code",
   "execution_count": 28,
   "id": "4bda8c8b-3361-4008-9b9e-72549f8685ef",
   "metadata": {},
   "outputs": [
    {
     "data": {
      "text/plain": [
       "tensor(3.)"
      ]
     },
     "execution_count": 28,
     "metadata": {},
     "output_type": "execute_result"
    }
   ],
   "source": [
    "w.grad"
   ]
  },
  {
   "cell_type": "code",
   "execution_count": 29,
   "id": "3fd2c120-9c8d-4325-96ca-e07e33f57c05",
   "metadata": {},
   "outputs": [
    {
     "data": {
      "text/plain": [
       "tensor(1.)"
      ]
     },
     "execution_count": 29,
     "metadata": {},
     "output_type": "execute_result"
    }
   ],
   "source": [
    "b.grad"
   ]
  },
  {
   "cell_type": "code",
   "execution_count": null,
   "id": "551b0beb-4822-4d60-9d10-10017d06829e",
   "metadata": {},
   "outputs": [],
   "source": []
  }
 ],
 "metadata": {
  "kernelspec": {
   "display_name": "Python 3 (ipykernel)",
   "language": "python",
   "name": "python3"
  },
  "language_info": {
   "codemirror_mode": {
    "name": "ipython",
    "version": 3
   },
   "file_extension": ".py",
   "mimetype": "text/x-python",
   "name": "python",
   "nbconvert_exporter": "python",
   "pygments_lexer": "ipython3",
   "version": "3.10.12"
  }
 },
 "nbformat": 4,
 "nbformat_minor": 5
}
